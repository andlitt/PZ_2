{
  "cells": [
    {
      "cell_type": "markdown",
      "metadata": {
        "id": "B13-_2gt0odF"
      },
      "source": [
        "# Лабораторная работа №2 Основы работы с библиотекой NumPy\n",
        "\n",
        "# Вариант №5\n",
        "---\n",
        "\n"
      ]
    },
    {
      "cell_type": "markdown",
      "metadata": {
        "id": "Pk9QfiwhUlIS"
      },
      "source": [
        "# Примеры использования библиотки Numpy:\n",
        "---"
      ]
    },
    {
      "cell_type": "markdown",
      "metadata": {
        "id": "e3weDJDiUqSl"
      },
      "source": [
        "# Создание массива:"
      ]
    },
    {
      "cell_type": "code",
      "execution_count": null,
      "metadata": {
        "id": "4BApzXSjUcYR"
      },
      "outputs": [],
      "source": [
        "import numpy as np\n",
        "arr = np.array([1, 2, 3, 4])"
      ]
    },
    {
      "cell_type": "markdown",
      "metadata": {
        "id": "BuQu9Ey-Ub2F"
      },
      "source": [
        "# Операции с массивами:"
      ]
    },
    {
      "cell_type": "markdown",
      "metadata": {
        "id": "xfclcD6WaJ2Q"
      },
      "source": []
    },
    {
      "cell_type": "code",
      "execution_count": null,
      "metadata": {
        "id": "Q3Ep6cZIUxPN"
      },
      "outputs": [],
      "source": [
        "arr1 = np.array([1, 2, 3])\n",
        "arr2 = np.array([4, 5, 6])\n",
        "result = arr1 + arr2 # [5, 7, 9]"
      ]
    },
    {
      "cell_type": "markdown",
      "metadata": {
        "id": "ooqay9vuUzpR"
      },
      "source": [
        "# Матричные операции:\n",
        "\n",
        "\n",
        "\n"
      ]
    },
    {
      "cell_type": "code",
      "execution_count": null,
      "metadata": {
        "id": "mcRB1zpgU3X_"
      },
      "outputs": [],
      "source": [
        "matrix1 = np.array([[1, 2], [3, 4]])\n",
        "matrix2 = np.array([[5, 6], [7, 8]])\n",
        "result = np.dot(matrix1, matrix2) # Матричное умножение"
      ]
    },
    {
      "cell_type": "markdown",
      "metadata": {
        "id": "TQFspjIUU77_"
      },
      "source": [
        "# Статистические функции"
      ]
    },
    {
      "cell_type": "code",
      "execution_count": null,
      "metadata": {
        "id": "s8k-EK5iU9na"
      },
      "outputs": [],
      "source": [
        "data = np.array([1, 2, 3, 4, 5])\n",
        "mean = np.mean(data) # Среднее значение\n",
        "std_dev = np.std(data) # Стандартное отклонение"
      ]
    },
    {
      "cell_type": "markdown",
      "metadata": {
        "id": "kv7mVL4HVBCV"
      },
      "source": [
        "# Поддержка векторизации"
      ]
    },
    {
      "cell_type": "code",
      "execution_count": null,
      "metadata": {
        "id": "KppE1qfNVO3-"
      },
      "outputs": [],
      "source": [
        "import numpy as np\n",
        "arr = np.array([1, 2, 3, 4])\n",
        "result = arr * 2 # Быстрое поэлементное умножение"
      ]
    },
    {
      "cell_type": "markdown",
      "metadata": {
        "id": "nDoeGGmRVMlV"
      },
      "source": [
        "# Доступ к элементам массива"
      ]
    },
    {
      "cell_type": "code",
      "execution_count": null,
      "metadata": {
        "colab": {
          "base_uri": "https://localhost:8080/"
        },
        "id": "NbCIYO-bVM1C",
        "outputId": "4530910e-c3bd-4c3f-ec85-9635649e535e"
      },
      "outputs": [
        {
          "name": "stdout",
          "output_type": "stream",
          "text": [
            "[[1 2 3 4]\n",
            " [5 6 7 8]\n",
            " [9 1 5 7]]\n"
          ]
        }
      ],
      "source": [
        "import numpy as np\n",
        "m = np.matrix('1 2 3 4; 5 6 7 8; 9 1 5 7')\n",
        "print(m)"
      ]
    },
    {
      "cell_type": "markdown",
      "metadata": {
        "id": "Wyqk_bqTVZ7a"
      },
      "source": [
        "# Непрерывная часть массива"
      ]
    },
    {
      "cell_type": "code",
      "execution_count": null,
      "metadata": {
        "id": "UjaaOjw4Vo2L"
      },
      "outputs": [],
      "source": [
        "m[0:2, 1:3]\n",
        "\n"
      ]
    },
    {
      "cell_type": "markdown",
      "metadata": {
        "id": "mGStW8gTWWdp"
      },
      "source": [
        "# np.zeros(), np.eye()"
      ]
    },
    {
      "cell_type": "code",
      "execution_count": null,
      "metadata": {
        "colab": {
          "base_uri": "https://localhost:8080/"
        },
        "id": "C8XemoC4V8gP",
        "outputId": "235b1445-cf8e-425e-8abc-6f7f6409a22c"
      },
      "outputs": [
        {
          "data": {
            "text/plain": [
              "array([[0., 0., 0., 0.],\n",
              "       [0., 0., 0., 0.],\n",
              "       [0., 0., 0., 0.]])"
            ]
          },
          "execution_count": 7,
          "metadata": {},
          "output_type": "execute_result"
        }
      ],
      "source": [
        "np.zeros((3, 4))"
      ]
    },
    {
      "cell_type": "markdown",
      "metadata": {
        "id": "LYrx3DnHV7t2"
      },
      "source": [
        "# np.ravel()"
      ]
    },
    {
      "cell_type": "code",
      "execution_count": null,
      "metadata": {
        "colab": {
          "base_uri": "https://localhost:8080/"
        },
        "id": "DtcW-E1SWaP1",
        "outputId": "09b2becc-67b2-4a73-d658-3ccaa684f050"
      },
      "outputs": [
        {
          "data": {
            "text/plain": [
              "array([[1, 2, 3],\n",
              "       [4, 5, 6],\n",
              "       [7, 8, 9]])"
            ]
          },
          "execution_count": 11,
          "metadata": {},
          "output_type": "execute_result"
        }
      ],
      "source": [
        "A = np.array([[1, 2, 3], [4, 5, 6], [7, 8, 9]])\n",
        "A"
      ]
    },
    {
      "cell_type": "markdown",
      "metadata": {
        "id": "NYCQ8ZvkWiio"
      },
      "source": [
        "# np.meshgrid()"
      ]
    },
    {
      "cell_type": "code",
      "execution_count": null,
      "metadata": {
        "colab": {
          "base_uri": "https://localhost:8080/"
        },
        "id": "4wlha0RuWlwQ",
        "outputId": "e26749ae-8f3a-4587-d0de-0730e09d19c7"
      },
      "outputs": [
        {
          "data": {
            "text/plain": [
              "array([[0.  , 0.25, 0.5 , 0.75, 1.  ],\n",
              "       [0.  , 0.25, 0.5 , 0.75, 1.  ],\n",
              "       [0.  , 0.25, 0.5 , 0.75, 1.  ],\n",
              "       [0.  , 0.25, 0.5 , 0.75, 1.  ],\n",
              "       [0.  , 0.25, 0.5 , 0.75, 1.  ]])"
            ]
          },
          "execution_count": 23,
          "metadata": {},
          "output_type": "execute_result"
        }
      ],
      "source": [
        "x = np.linspace(0, 1, 5)\n",
        "y = np.linspace(0, 2, 5)\n",
        "xg, yg = np.meshgrid(x, y)\n",
        "xg\n"
      ]
    },
    {
      "cell_type": "markdown",
      "metadata": {
        "id": "TXkAMhYWXs2Q"
      },
      "source": [
        "# Вектор"
      ]
    },
    {
      "cell_type": "code",
      "execution_count": null,
      "metadata": {
        "colab": {
          "base_uri": "https://localhost:8080/"
        },
        "id": "ToEzQb1BX5QC",
        "outputId": "7c6bca03-dd30-42c6-b50d-cb9cd0abbaec"
      },
      "outputs": [
        {
          "name": "stdout",
          "output_type": "stream",
          "text": [
            "[1 2]\n"
          ]
        }
      ],
      "source": [
        "v_hor_np = np.array([1, 2])\n",
        "print(v_hor_np )"
      ]
    },
    {
      "cell_type": "markdown",
      "metadata": {
        "id": "ym0MwPJRYA6U"
      },
      "source": [
        "# Нулевой вектор-столбец"
      ]
    },
    {
      "cell_type": "code",
      "execution_count": null,
      "metadata": {
        "colab": {
          "base_uri": "https://localhost:8080/"
        },
        "id": "wHuKqsP-YDC4",
        "outputId": "f05095b3-10ea-45b3-8203-7878a015e14f"
      },
      "outputs": [
        {
          "name": "stdout",
          "output_type": "stream",
          "text": [
            "[[0.]\n",
            " [0.]\n",
            " [0.]\n",
            " [0.]\n",
            " [0.]]\n"
          ]
        }
      ],
      "source": [
        "v_vert_zeros = np.zeros((5, 1))\n",
        "print(v_vert_zeros)"
      ]
    },
    {
      "cell_type": "markdown",
      "metadata": {
        "id": "oI88JwHcYJI2"
      },
      "source": [
        "# Единичный вектор-столбец"
      ]
    },
    {
      "cell_type": "code",
      "execution_count": null,
      "metadata": {
        "colab": {
          "base_uri": "https://localhost:8080/"
        },
        "id": "f74afyJiYKFP",
        "outputId": "437868da-8e98-45d2-aec8-8714f8bf44bc"
      },
      "outputs": [
        {
          "name": "stdout",
          "output_type": "stream",
          "text": [
            "[[1.]\n",
            " [1.]\n",
            " [1.]\n",
            " [1.]\n",
            " [1.]]\n"
          ]
        }
      ],
      "source": [
        "v_vert_ones = np.ones((5, 1))\n",
        "print(v_vert_ones)"
      ]
    },
    {
      "cell_type": "markdown",
      "metadata": {
        "id": "w6ioSfCpYOY-"
      },
      "source": [
        "# Диагональная матрица"
      ]
    },
    {
      "cell_type": "code",
      "execution_count": null,
      "metadata": {
        "colab": {
          "base_uri": "https://localhost:8080/"
        },
        "id": "kETa7BAoYSrZ",
        "outputId": "e98dfe2b-f1b9-4493-92bb-dd71a73ed5ef"
      },
      "outputs": [
        {
          "name": "stdout",
          "output_type": "stream",
          "text": [
            "[[1 0 0]\n",
            " [0 5 0]\n",
            " [0 0 9]]\n"
          ]
        }
      ],
      "source": [
        "m_diag = [[1, 0, 0], [0, 5, 0], [0, 0, 9]]\n",
        "m_diag_np = np.matrix(m_diag)\n",
        "print(m_diag_np)"
      ]
    },
    {
      "cell_type": "markdown",
      "metadata": {
        "id": "uDEdbKbTYh-s"
      },
      "source": [
        "# Единичная матрица"
      ]
    },
    {
      "cell_type": "code",
      "execution_count": null,
      "metadata": {
        "colab": {
          "base_uri": "https://localhost:8080/"
        },
        "id": "ERNcEWXVYk-x",
        "outputId": "55740c4f-5988-472c-c5ea-6480c22455e1"
      },
      "outputs": [
        {
          "name": "stdout",
          "output_type": "stream",
          "text": [
            "[[1 0 0]\n",
            " [0 1 0]\n",
            " [0 0 1]]\n"
          ]
        }
      ],
      "source": [
        "m_e = [[1, 0, 0], [0, 1, 0], [0, 0, 1]]\n",
        "m_e_np = np.matrix(m_e)\n",
        "print(m_e_np)"
      ]
    },
    {
      "cell_type": "markdown",
      "metadata": {
        "id": "79hYNVquY0H4"
      },
      "source": [
        "# Задание матрицы в общем виде"
      ]
    },
    {
      "cell_type": "code",
      "execution_count": null,
      "metadata": {
        "colab": {
          "base_uri": "https://localhost:8080/"
        },
        "id": "mZFLOvvsY3a1",
        "outputId": "a16a9a8e-d077-4dbb-f2f9-e4a80c3efbb2"
      },
      "outputs": [
        {
          "name": "stdout",
          "output_type": "stream",
          "text": [
            "[[1 2 3]\n",
            " [4 5 6]]\n"
          ]
        }
      ],
      "source": [
        "m_mx = np.matrix('1 2 3; 4 5 6')\n",
        "print(m_mx)"
      ]
    },
    {
      "cell_type": "markdown",
      "metadata": {
        "id": "pvcijp1nY6xx"
      },
      "source": [
        "# Транспонирование матрицы"
      ]
    },
    {
      "cell_type": "code",
      "execution_count": null,
      "metadata": {
        "colab": {
          "base_uri": "https://localhost:8080/"
        },
        "id": "-W8caD27Y-OV",
        "outputId": "48c645a9-1d76-4d14-8f84-400705faabce"
      },
      "outputs": [
        {
          "name": "stdout",
          "output_type": "stream",
          "text": [
            "[[1 2 3]\n",
            " [4 5 6]]\n",
            "[[1 4]\n",
            " [2 5]\n",
            " [3 6]]\n"
          ]
        }
      ],
      "source": [
        "A = np.matrix('1 2 3; 4 5 6')\n",
        "print(A)\n",
        "\n",
        "A_t = A.transpose()\n",
        "print(A_t)"
      ]
    },
    {
      "cell_type": "markdown",
      "metadata": {
        "id": "eZCqCh08Zc5V"
      },
      "source": [
        "# Сложение матриц"
      ]
    },
    {
      "cell_type": "code",
      "execution_count": null,
      "metadata": {
        "colab": {
          "base_uri": "https://localhost:8080/"
        },
        "id": "fVjH23pDZgcN",
        "outputId": "5942a534-3e6f-4744-bbe9-2443ec24a8fd"
      },
      "outputs": [
        {
          "name": "stdout",
          "output_type": "stream",
          "text": [
            "[[ 9  7  8]\n",
            " [14 11 19]]\n"
          ]
        }
      ],
      "source": [
        "A = np.matrix('1 6 3; 8 2 7')\n",
        "B = np.matrix('8 1 5; 6 9 12')\n",
        "C = A + B\n",
        "print(C)\n",
        "\n"
      ]
    },
    {
      "cell_type": "markdown",
      "metadata": {
        "id": "fa7gqiYsZ4Yt"
      },
      "source": [
        "# Обратная матрица"
      ]
    },
    {
      "cell_type": "code",
      "execution_count": null,
      "metadata": {
        "colab": {
          "base_uri": "https://localhost:8080/"
        },
        "id": "VXMFxADwZ4p4",
        "outputId": "2ebe814a-d075-4a5b-e053-5cbbaaeaa9a0"
      },
      "outputs": [
        {
          "name": "stdout",
          "output_type": "stream",
          "text": [
            "[[ 0.45454545  0.27272727]\n",
            " [-0.18181818  0.09090909]]\n"
          ]
        }
      ],
      "source": [
        "A = np.matrix('1 -3; 2 5')\n",
        "A_inv = np.linalg.inv(A)\n",
        "print(A_inv)"
      ]
    },
    {
      "cell_type": "markdown",
      "metadata": {
        "id": "wHyKHv1TYrdg"
      },
      "source": [
        "# Ранг матрицы"
      ]
    },
    {
      "cell_type": "code",
      "execution_count": null,
      "metadata": {
        "colab": {
          "base_uri": "https://localhost:8080/"
        },
        "id": "Pd5y9C5xaTRQ",
        "outputId": "e8ce9a96-58b9-4980-caaf-2508efcc4ad0"
      },
      "outputs": [
        {
          "name": "stdout",
          "output_type": "stream",
          "text": [
            "[[1. 0. 0. 0.]\n",
            " [0. 1. 0. 0.]\n",
            " [0. 0. 1. 0.]\n",
            " [0. 0. 0. 1.]]\n",
            "4\n"
          ]
        }
      ],
      "source": [
        "m_eye = np.eye(4)\n",
        "print(m_eye)\n",
        "rank = np.linalg.matrix_rank(m_eye)\n",
        "print(rank)"
      ]
    }
  ],
  "metadata": {
    "colab": {
      "provenance": []
    },
    "kernelspec": {
      "display_name": "Python 3",
      "name": "python3"
    },
    "language_info": {
      "name": "python"
    }
  },
  "nbformat": 4,
  "nbformat_minor": 0
}
