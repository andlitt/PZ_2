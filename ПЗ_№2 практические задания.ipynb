{
  "cells": [
    {
      "cell_type": "markdown",
      "metadata": {
        "id": "B13-_2gt0odF"
      },
      "source": [
        "# Лабораторная работа №2 Основы работы с библиотекой NumPy\n",
        "\n",
        "# Вариант №5\n",
        "---\n",
        "\n"
      ]
    },
    {
      "cell_type": "markdown",
      "metadata": {
        "id": "6498-2XhZ_Bj"
      },
      "source": [
        "# Задания практической работы:\n",
        "---"
      ]
    },
    {
      "cell_type": "markdown",
      "metadata": {
        "id": "67Q2-Vx_1AXa"
      },
      "source": [
        "# 1. Создание и изменение массивов\n",
        "Создайте массив NumPy размером 3×3, содержащий числа от 1 до 9. Умножьте\n",
        "все элементы массива на 2, а затем замените все элементы больше 10 на 0.Выведите итоговый массив."
      ]
    },
    {
      "cell_type": "code",
      "execution_count": null,
      "metadata": {
        "colab": {
          "base_uri": "https://localhost:8080/"
        },
        "id": "0cXeKxAH1TO6",
        "outputId": "51dd062d-00bf-4491-e809-33470ea228be"
      },
      "outputs": [
        {
          "name": "stdout",
          "output_type": "stream",
          "text": [
            "[[ 2  4  6]\n",
            " [ 8 10  0]\n",
            " [ 0  0  0]]\n"
          ]
        }
      ],
      "source": [
        "import numpy as np\n",
        "\n",
        "arr = np.matrix('1 2 3; 4 5 6; 7 8 9')\n",
        "\n",
        "arr = arr*2\n",
        "arr[arr > 10] = 0\n",
        "\n",
        "print(arr)"
      ]
    },
    {
      "cell_type": "markdown",
      "metadata": {
        "id": "7P5ObumL4FSL"
      },
      "source": [
        "# 2. Работа с булевыми масками\n",
        "Создайте массив NumPy из 20 случайных целых чисел от 1 до 100. Найдите и\n",
        "выведите все элементы, которые делятся на 5 без остатка. Затем замените их на\n",
        "-1 и выведите обновленный массив"
      ]
    },
    {
      "cell_type": "code",
      "execution_count": null,
      "metadata": {
        "colab": {
          "base_uri": "https://localhost:8080/"
        },
        "id": "zfD6H9pN4WEf",
        "outputId": "becbff80-eb00-42e1-94fa-a68350dfe459"
      },
      "outputs": [
        {
          "name": "stdout",
          "output_type": "stream",
          "text": [
            "[44 93 44 42 65 88 14 63 63  8 88 44 17 29 87 59 54  1  9 57]\n",
            "[65]\n",
            "[44 93 44 42 -1 88 14 63 63  8 88 44 17 29 87 59 54  1  9 57]\n"
          ]
        }
      ],
      "source": [
        "import numpy as np\n",
        "\n",
        "arr = np.random.randint(1, 101, 20)\n",
        "print(arr)\n",
        "\n",
        "print(arr[arr % 5 == 0])\n",
        "arr[arr % 5 == 0] = -1\n",
        "\n",
        "print(arr)"
      ]
    },
    {
      "cell_type": "markdown",
      "metadata": {
        "id": "Io_-k2TF5NCi"
      },
      "source": [
        "# 3. Объединение и разбиение массивов\n",
        "Создайте два массива NumPy размером 1×5, заполненные случайными числами от 0 до 50.\n",
        "\n",
        "\n",
        "*   Объедините эти массивы в один двумерный массив (по строкам).\n",
        "*   Разделите полученный массив на два массива, каждый из которых содержит 5 элементов.\n",
        "\n",
        "Выведите все промежуточные и итоговые результаты."
      ]
    },
    {
      "cell_type": "code",
      "execution_count": null,
      "metadata": {
        "colab": {
          "base_uri": "https://localhost:8080/"
        },
        "id": "Nfb3rXc55T6n",
        "outputId": "e72fc775-e513-4fda-c516-d047255bd1f5"
      },
      "outputs": [
        {
          "name": "stdout",
          "output_type": "stream",
          "text": [
            "[50 20 44 35 45] [14 35 43 12 37]\n",
            "[50 20 44 35 45 14 35 43 12 37]\n",
            "[50 20 44 35 45] [14 35 43 12 37]\n"
          ]
        }
      ],
      "source": [
        "import numpy as np\n",
        "\n",
        "arr1 = np.random.randint(1, 51, 5)\n",
        "arr2 = np.random.randint(1, 51, 5)\n",
        "print(arr1, arr2)\n",
        "\n",
        "arr3 = np.concatenate((arr1, arr2), axis=0)\n",
        "print(arr3)\n",
        "\n",
        "arr4, arr5 = np.hsplit(arr3, 2)\n",
        "print(arr4, arr5)"
      ]
    },
    {
      "cell_type": "markdown",
      "metadata": {
        "id": "fosf9W0H5N7_"
      },
      "source": [
        "# 4. Генерация и работа с линейными последовательностями\n",
        "\n",
        "Создайте массив из 50 чисел, равномерно распределенных от -10 до 10. Вычислите сумму всех элементов, сумму положительных элементов и сумму отрицательных элементов. Выведите результаты."
      ]
    },
    {
      "cell_type": "code",
      "execution_count": null,
      "metadata": {
        "colab": {
          "base_uri": "https://localhost:8080/"
        },
        "id": "Od_NepIl5UZ1",
        "outputId": "12371892-e24f-4e2a-d41a-91ac7e88f98a"
      },
      "outputs": [
        {
          "name": "stdout",
          "output_type": "stream",
          "text": [
            "[-10  -3  -9   3   6  -8   1   3   6   2  -9 -10  -5   9 -10   0   7   2\n",
            "   8 -10  -9   0 -10  -4  -6  -6  -5   4   6   5  -6  -9  -3   3  -9 -10\n",
            "  -6   3   0   2  -8  -4  -5  -4   2  -4  -9   6   9   7]\n",
            "Cумма положительных:  94\n",
            "Cумма отрицательных:  -191\n"
          ]
        }
      ],
      "source": [
        "import numpy as np\n",
        "\n",
        "arr1 = np.random.randint(-10, 10, 50)\n",
        "print(arr1)\n",
        "sum_p = arr1[arr1 > 0].sum()\n",
        "sum_n = arr1[arr1 < 0].sum()\n",
        "\n",
        "\n",
        "print(\"Cумма положительных: \",sum_p)\n",
        "print(\"Cумма отрицательных: \",sum_n)"
      ]
    },
    {
      "cell_type": "markdown",
      "metadata": {
        "id": "5oTQRe0K5UyF"
      },
      "source": [
        "# 5. Работа с диагональнами и единичными матрицами\n",
        "Создайте:\n",
        "\n",
        "*   Единичную матрицу размером 4×4.\n",
        "*   Диагональную матрицу размером 4×4 с диагональными элементами [5, 10, 15, 20] (не использовать циклы).\n",
        "\n",
        "Найдите сумму всех элементов каждой из этих матриц и сравните результаты."
      ]
    },
    {
      "cell_type": "code",
      "execution_count": null,
      "metadata": {
        "colab": {
          "base_uri": "https://localhost:8080/"
        },
        "id": "79tCG16D5VNz",
        "outputId": "9399b02d-bfdb-4497-d7ef-3baabe4e4e0a"
      },
      "outputs": [
        {
          "name": "stdout",
          "output_type": "stream",
          "text": [
            "Единичная матрица: \n",
            "[[1. 0. 0. 0.]\n",
            " [0. 1. 0. 0.]\n",
            " [0. 0. 1. 0.]\n",
            " [0. 0. 0. 1.]]\n",
            "Диагональная матрица: \n",
            " [[ 5  0  0  0]\n",
            " [ 0 10  0  0]\n",
            " [ 0  0 15  0]\n",
            " [ 0  0  0 20]]\n",
            "4.0 < 50\n"
          ]
        }
      ],
      "source": [
        "import numpy as np\n",
        "\n",
        "m1 = np.eye(4)\n",
        "print(f\"Единичная матрица: \\n{m1}\")\n",
        "\n",
        "arr = np.array([5, 10, 15, 20])\n",
        "\n",
        "m2 = np.diag(arr)\n",
        "print(f\"Диагональная матрица: \\n {m2}\")\n",
        "\n",
        "compare = '>' if m1.sum() > m2.sum() else '<'\n",
        "print(f\"{m1.sum()} {compare} {m2.sum()}\")"
      ]
    },
    {
      "cell_type": "markdown",
      "metadata": {
        "id": "p0VgI9Th5VsU"
      },
      "source": [
        "# 6. Создание и базовые операции с матрицами\n",
        "Создайте две квадратные матрицы NumPy размером 3×3, заполненные случайными целыми числами от 1 до 20. Вычислите и выведите:\n",
        "\n",
        "\n",
        "*   Их сумму\n",
        "*   Их разность\n",
        "*   Их поэлементное произведение\n",
        "\n",
        "\n"
      ]
    },
    {
      "cell_type": "code",
      "execution_count": null,
      "metadata": {
        "colab": {
          "base_uri": "https://localhost:8080/"
        },
        "id": "hUJJxUvw5WF9",
        "outputId": "e492b654-1585-4bf0-ff59-2e8540fdf58e"
      },
      "outputs": [
        {
          "name": "stdout",
          "output_type": "stream",
          "text": [
            "[[19  3  5]\n",
            " [10 12  9]\n",
            " [ 2  5  7]]\n",
            "\n",
            "[[ 3 20 11]\n",
            " [20 14 19]\n",
            " [ 7 18  5]]\n",
            "\n",
            "Cумма: \n",
            " [[22 23 16]\n",
            " [30 26 28]\n",
            " [ 9 23 12]] \n",
            "\n",
            "Разность: \n",
            " [[ 16 -17  -6]\n",
            " [-10  -2 -10]\n",
            " [ -5 -13   2]] \n",
            "\n",
            "Поэлементное произведение: \n",
            " [[ 57  60  55]\n",
            " [200 168 171]\n",
            " [ 14  90  35]] \n",
            "\n"
          ]
        }
      ],
      "source": [
        "import numpy as np\n",
        "\n",
        "m1 = np.random.randint(1, 21, (3, 3))\n",
        "m2 = np.random.randint(1, 21, (3, 3))\n",
        "\n",
        "print(f\"{m1}\\n\")\n",
        "print(f\"{m2}\\n\")\n",
        "print(f\"Cумма: \\n\", m1+m2, \"\\n\")\n",
        "print(f\"Разность: \\n\", m1-m2, \"\\n\")\n",
        "print(f\"Поэлементное произведение: \\n\", m1*m2, \"\\n\")"
      ]
    },
    {
      "cell_type": "markdown",
      "metadata": {
        "id": "41fRZZ8e5WWd"
      },
      "source": [
        "# 7. Умножение матриц\n",
        "\n",
        "Создайте две матрицы NumPy:\n",
        "\n",
        "*   Первую размером 2×3 заполненную случайными числами от 1 до 10.\n",
        "*   Вторую размером 3×2, заполненную случайными числами от 1 до 10.\n",
        "\n",
        "Выполните матричное умножение ( @ или пр.dot ) и выведите результат."
      ]
    },
    {
      "cell_type": "code",
      "execution_count": null,
      "metadata": {
        "colab": {
          "base_uri": "https://localhost:8080/"
        },
        "id": "owR-bJ9G7Aoq",
        "outputId": "c28f0c4d-a746-473b-b760-54b86910152f"
      },
      "outputs": [
        {
          "name": "stdout",
          "output_type": "stream",
          "text": [
            "[[5 3 5]\n",
            " [2 9 4]] \n",
            "\n",
            "[[8 9]\n",
            " [7 2]\n",
            " [3 4]] \n",
            "\n",
            "Произведение матриц: \n",
            " [[76 71]\n",
            " [91 52]] \n",
            "\n"
          ]
        }
      ],
      "source": [
        "import numpy as np\n",
        "\n",
        "m1 = np.random.randint(1, 10, (2, 3))\n",
        "m2 = np.random.randint(1, 10, (3, 2))\n",
        "print(m1, \"\\n\")\n",
        "print(m2, \"\\n\")\n",
        "\n",
        "mult = np.dot(m1, m2)\n",
        "\n",
        "print(f\"Произведение матриц: \\n\",mult, \"\\n\")\n"
      ]
    },
    {
      "cell_type": "markdown",
      "metadata": {
        "id": "en-BfxkS7A_W"
      },
      "source": [
        "# 8. Определитель и обратная матрица\n",
        "\n",
        "Создайте случайную квадратную матрицу 3×3. Найдите и выведите:\n",
        "\n",
        "*   Определитель этой матрицы\n",
        "*   Обратную матрицу (если существует, иначе выведите сообщение, что матрица вырождена)\n",
        "\n",
        "\n",
        "Используйте функции nр.linalg.det и nр.linalg.inv."
      ]
    },
    {
      "cell_type": "code",
      "execution_count": null,
      "metadata": {
        "colab": {
          "base_uri": "https://localhost:8080/"
        },
        "id": "HzXh0ApW7OBJ",
        "outputId": "f83f1e9e-7751-414e-aa77-98be0097e88b"
      },
      "outputs": [
        {
          "name": "stdout",
          "output_type": "stream",
          "text": [
            "Сгенерированная матрица:\n",
            "[[7 9 8]\n",
            " [3 7 5]\n",
            " [2 6 9]]\n",
            "Определитель матрицы: 110.00\n",
            "\n",
            "Обратная матрица:\n",
            "[[ 0.3        -0.3        -0.1       ]\n",
            " [-0.15454545  0.42727273 -0.1       ]\n",
            " [ 0.03636364 -0.21818182  0.2       ]]\n"
          ]
        }
      ],
      "source": [
        "import numpy as np\n",
        "\n",
        "\n",
        "m1 = np.random.randint(1, 10, (3, 3))\n",
        "print(\"Сгенерированная матрица:\")\n",
        "print(m1)\n",
        "\n",
        "\n",
        "det = np.linalg.det(m1)\n",
        "print(f\"Определитель матрицы: {det:.2f}\")\n",
        "\n",
        "\n",
        "if (det == 0):\n",
        "    print(\"Матрица вырождена (определитель равен 0), обратной матрицы не существует\")\n",
        "else:\n",
        "    inv_matrix = np.linalg.inv(m1)\n",
        "    print(\"\\nОбратная матрица:\")\n",
        "    print(inv_matrix)\n",
        "\n"
      ]
    },
    {
      "cell_type": "markdown",
      "metadata": {
        "id": "X-b2cg947OOb"
      },
      "source": [
        "# 9. Транспонирование и след матрицы\n",
        "\n",
        "Создайте матрицу NumPy размером 4×4, содержащую случайные целые числа от 1 до 50. Выведите:\n",
        "\n",
        "*   Исходную матрицу\n",
        "*   Транспонированную матрицу\n",
        "*   След матрицы (сумму элементов на главной диагонали)\n",
        "\n",
        "Используйте пр. trace для нахождения следа."
      ]
    },
    {
      "cell_type": "code",
      "execution_count": null,
      "metadata": {
        "colab": {
          "base_uri": "https://localhost:8080/"
        },
        "id": "qjtykrjR7ex9",
        "outputId": "1ffe9879-3f47-459d-961a-41385eb9376c"
      },
      "outputs": [
        {
          "name": "stdout",
          "output_type": "stream",
          "text": [
            "Исходная матрица: \n",
            "  [[ 5 47 47 45]\n",
            " [38 43  6 13]\n",
            " [36 48 46 47]\n",
            " [ 1 17  6 37]] \n",
            "\n",
            "Транспонированная матрица: \n",
            "  [[ 5 38 36  1]\n",
            " [47 43 48 17]\n",
            " [47  6 46  6]\n",
            " [45 13 47 37]] \n",
            "\n",
            "Cумма элементов на главной диагонали: \n",
            "  [[ 3 20 11]\n",
            " [20 14 19]\n",
            " [ 7 18  5]] \n",
            "\n"
          ]
        }
      ],
      "source": [
        "import numpy as np\n",
        "\n",
        "m1 = np.random.randint(1, 51, (4, 4))\n",
        "mt = m1.T\n",
        "sum = np.diag(m1).sum()\n",
        "\n",
        "\n",
        "\n",
        "print(\"Исходная матрица: \\n \", m1, \"\\n\")\n",
        "print(\"Транспонированная матрица: \\n \", mt, \"\\n\")\n",
        "print(\"Cумма элементов на главной диагонали: \\n \", m2, \"\\n\")"
      ]
    },
    {
      "cell_type": "markdown",
      "metadata": {
        "id": "EUQtdoBF7fBl"
      },
      "source": [
        "# 10. Системы линейных уравнений\n",
        "Решите систему линейных уравнений вида:\n",
        "\\[\n",
        "\\begin{cases}\n",
        "2x + 3y - z = 5 \\\\\n",
        "4x - y + 2z = 6 \\\\\n",
        "-3x + 5y + 4z = 2\n",
        "\\end{cases}\n",
        "\\]\n",
        "\n",
        "Используйте матричное представление Ax = B , где A – матрица коэффициентов,\n",
        "x – вектор неизвестных, B – вектор правой части. Решите систему с помощью\n",
        "np.linalg.solve и выведите результат"
      ]
    },
    {
      "cell_type": "code",
      "execution_count": null,
      "metadata": {
        "colab": {
          "base_uri": "https://localhost:8080/"
        },
        "id": "WR0M5Kr87xkl",
        "outputId": "2524f780-f714-4f58-b5b2-aa2e34b607ad"
      },
      "outputs": [
        {
          "name": "stdout",
          "output_type": "stream",
          "text": [
            "Решение системы:\n",
            "x = 1.46\n",
            "y = 0.86\n",
            "z = 0.51\n"
          ]
        }
      ],
      "source": [
        "import numpy as np\n",
        "\n",
        "\n",
        "A = np.array([\n",
        "    [2, 3, -1],\n",
        "    [4, -1, 2],\n",
        "    [-3, 5, 4]\n",
        "])\n",
        "\n",
        "B = np.array([5, 6, 2])\n",
        "\n",
        "x = np.linalg.solve(A, B)\n",
        "\n",
        "print(\"Решение системы:\")\n",
        "print(f\"x = {x[0]:.2f}\")\n",
        "print(f\"y = {x[1]:.2f}\")\n",
        "print(f\"z = {x[2]:.2f}\")"
      ]
    },
    {
      "cell_type": "markdown",
      "metadata": {
        "id": "oGA48N8t7916"
      },
      "source": [
        "# 11. Индивидуальное задание\n",
        "Решите индивидуальное задание согласно варианта. Каждое задание предусматривает построение системы линейных уравнений. Решите полученную систему уравнений с использованием библиотеки NumPy. Для решения системы используйте метод Крамера и матричный метод. Сравните полученные результаты, с результатами, полученными с помощью np.linalg.solve.\n",
        "\n",
        "# Условие задачи:\n",
        "5. Распределение нагрузки на работников. Три сотрудника должны выполнить 100 задач. Второй сотрудник должен выполнить на 10 задач больше, чем первый, а третий - в два раза больше, чем второй. Сколько задач получит каждый сотрудник?"
      ]
    },
    {
      "cell_type": "code",
      "execution_count": null,
      "metadata": {
        "colab": {
          "base_uri": "https://localhost:8080/"
        },
        "id": "Va4v2Jpk8RAB",
        "outputId": "1d1907de-bbd8-4a6a-a8d7-61aa5cf07bac"
      },
      "outputs": [
        {
          "name": "stdout",
          "output_type": "stream",
          "text": [
            "Метод Крамера: [17.5 27.5 55. ]\n",
            "Матричный метод: [17.5 27.5 55. ]\n",
            "np.linalg.solve: [17.5 27.5 55. ]\n"
          ]
        }
      ],
      "source": [
        "import numpy as np\n",
        "\n",
        "total_tasks = 100\n",
        "A = np.array([\n",
        "    [1, 1, 1],    # x + y + z = 100\n",
        "    [-1, 1, 0],    # y = x + 10 → -x + y = 10\n",
        "    [0, -2, 1]     # z = 2y → -2y + z = 0\n",
        "])\n",
        "B = np.array([100, 10, 0])\n",
        "\n",
        "# 1. Решение методом Крамера\n",
        "def cramer(A, B):\n",
        "    det_A = np.linalg.det(A)\n",
        "    if det_A == 0:\n",
        "        print(\"Матрица вырождена, система не имеет единственного решения\")\n",
        "    solutions = []\n",
        "    for i in range(A.shape[0]):\n",
        "        Ai = A.copy()\n",
        "        Ai[:, i] = B\n",
        "        solutions.append(np.linalg.det(Ai) / det_A)\n",
        "    return np.array(solutions)\n",
        "\n",
        "cramer_solution = cramer(A, B)\n",
        "print(\"Метод Крамера:\", cramer_solution)\n",
        "\n",
        "# 2. Решение матричным методом\n",
        "def matrix_method(A, B):\n",
        "    if np.linalg.det(A) == 0:\n",
        "        print(\"Матрица вырождена, система не имеет единственного решения\")\n",
        "    A_inv = np.linalg.inv(A)\n",
        "    solutions = np.dot(A_inv, B)\n",
        "    return solutions   #\n",
        "\n",
        "matrix_solution = matrix_method(A, B)\n",
        "print(\"Матричный метод:\", matrix_solution)\n",
        "\n",
        "# 3. Решение с помощью np.linalg.solve\n",
        "solve_solution = np.linalg.solve(A, B)\n",
        "print(\"np.linalg.solve:\", solve_solution)"
      ]
    }
  ],
  "metadata": {
    "colab": {
      "provenance": []
    },
    "kernelspec": {
      "display_name": "Python 3",
      "name": "python3"
    },
    "language_info": {
      "name": "python"
    }
  },
  "nbformat": 4,
  "nbformat_minor": 0
}
